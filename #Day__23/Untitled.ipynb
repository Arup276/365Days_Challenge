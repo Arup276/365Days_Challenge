{
 "cells": [
  {
   "cell_type": "markdown",
   "metadata": {},
   "source": [
    "### Digital Differential Analyzer(DDA) Line Drawing Algorithm"
   ]
  },
  {
   "cell_type": "code",
   "execution_count": null,
   "metadata": {},
   "outputs": [],
   "source": [
    "import matplotlib.pyplot as plt\n",
    "%matplotlib inline"
   ]
  },
  {
   "cell_type": "code",
   "execution_count": null,
   "metadata": {},
   "outputs": [],
   "source": [
    "x1 = float(input(\"Enter X1: \"))\n",
    "x2 = float(input(\"Enter X2: \"))\n",
    "y1 = float(input(\"Enter Y1: \"))\n",
    "y2 = float(input(\"Enter Y2: \"))\n",
    "\n",
    "dx = abs(x2-x1)\n",
    "dy = abs(y2-y1)\n",
    "\n",
    "if dx >= dy:\n",
    "    length = dx\n",
    "else:\n",
    "    length = dy\n",
    "\n",
    "dx = (x2-x1)/length\n",
    "dy = (y2-y1)/length\n",
    "\n",
    "x = x1 + 0.5\n",
    "y = y1 + 0.5\n",
    "print(x,y)\n",
    "\n",
    "i = 1\n",
    "arr_x = []\n",
    "arr_y = []\n",
    "while i <= length:\n",
    "    arr_x.append(int(x))\n",
    "    arr_y.append(int(y))\n",
    "    #print(int(x),int(y))\n",
    "    x += dx\n",
    "    y += dy\n",
    "    print(x,y)\n",
    "    i += 1\n",
    "plt.plot(arr_x,arr_y)"
   ]
  },
  {
   "cell_type": "code",
   "execution_count": null,
   "metadata": {},
   "outputs": [],
   "source": []
  }
 ],
 "metadata": {
  "kernelspec": {
   "display_name": "Python 3",
   "language": "python",
   "name": "python3"
  },
  "language_info": {
   "codemirror_mode": {
    "name": "ipython",
    "version": 3
   },
   "file_extension": ".py",
   "mimetype": "text/x-python",
   "name": "python",
   "nbconvert_exporter": "python",
   "pygments_lexer": "ipython3",
   "version": "3.7.1"
  }
 },
 "nbformat": 4,
 "nbformat_minor": 2
}
