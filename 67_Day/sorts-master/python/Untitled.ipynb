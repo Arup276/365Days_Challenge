{
 "cells": [
  {
   "cell_type": "code",
   "execution_count": 2,
   "metadata": {},
   "outputs": [
    {
     "name": "stdout",
     "output_type": "stream",
     "text": [
      "Enter number of integers: 50\n",
      "Enter sorting method:\n",
      "(b)ubble\n",
      "(i)nsertion\n",
      "(m)erge         \n",
      "(q)uick\n",
      "(s)election\n",
      "s\n"
     ]
    },
    {
     "data": {
      "image/png": "[encoded data removed]",
      "text/plain": [
       "<Figure size 432x288 with 1 Axes>"
      ]
     },
     "metadata": {
      "needs_background": "light"
     },
     "output_type": "display_data"
    }
   ],
   "source": [
    "import random\n",
    "import time\n",
    "import matplotlib.pyplot as plt\n",
    "import matplotlib.animation as animation\n",
    "%matplotlib inline\n",
    "# NOTE: Python version >=3.3 is required, due to \"yield from\" feature.\n",
    "\n",
    "def swap(A, i, j):\n",
    "    \"\"\"Helper function to swap elements i and j of list A.\"\"\"\n",
    "\n",
    "    if i != j:\n",
    "        A[i], A[j] = A[j], A[i]\n",
    "\n",
    "def bubblesort(A):\n",
    "    \"\"\"In-place bubble sort.\"\"\"\n",
    "\n",
    "    if len(A) == 1:\n",
    "        return\n",
    "\n",
    "    swapped = True\n",
    "    for i in range(len(A) - 1):\n",
    "        if not swapped:\n",
    "            break\n",
    "        swapped = False\n",
    "        for j in range(len(A) - 1 - i):\n",
    "            if A[j] > A[j + 1]:\n",
    "                swap(A, j, j + 1)\n",
    "                swapped = True\n",
    "            yield A\n",
    "\n",
    "def insertionsort(A):\n",
    "    \"\"\"In-place insertion sort.\"\"\"\n",
    "\n",
    "    for i in range(1, len(A)):\n",
    "        j = i\n",
    "        while j > 0 and A[j] < A[j - 1]:\n",
    "            swap(A, j, j - 1)\n",
    "            j -= 1\n",
    "            yield A\n",
    "\n",
    "def mergesort(A, start, end):\n",
    "    \"\"\"Merge sort.\"\"\"\n",
    "\n",
    "    if end <= start:\n",
    "        return\n",
    "\n",
    "    mid = start + ((end - start + 1) // 2) - 1\n",
    "    yield from mergesort(A, start, mid)\n",
    "    yield from mergesort(A, mid + 1, end)\n",
    "    yield from merge(A, start, mid, end)\n",
    "    yield A\n",
    "\n",
    "def merge(A, start, mid, end):\n",
    "    \"\"\"Helper function for merge sort.\"\"\"\n",
    "    \n",
    "    merged = []\n",
    "    leftIdx = start\n",
    "    rightIdx = mid + 1\n",
    "\n",
    "    while leftIdx <= mid and rightIdx <= end:\n",
    "        if A[leftIdx] < A[rightIdx]:\n",
    "            merged.append(A[leftIdx])\n",
    "            leftIdx += 1\n",
    "        else:\n",
    "            merged.append(A[rightIdx])\n",
    "            rightIdx += 1\n",
    "\n",
    "    while leftIdx <= mid:\n",
    "        merged.append(A[leftIdx])\n",
    "        leftIdx += 1\n",
    "\n",
    "    while rightIdx <= end:\n",
    "        merged.append(A[rightIdx])\n",
    "        rightIdx += 1\n",
    "\n",
    "    for i, sorted_val in enumerate(merged):\n",
    "        A[start + i] = sorted_val\n",
    "        yield A\n",
    "\n",
    "def quicksort(A, start, end):\n",
    "    \"\"\"In-place quicksort.\"\"\"\n",
    "\n",
    "    if start >= end:\n",
    "        return\n",
    "\n",
    "    pivot = A[end]\n",
    "    pivotIdx = start\n",
    "\n",
    "    for i in range(start, end):\n",
    "        if A[i] < pivot:\n",
    "            swap(A, i, pivotIdx)\n",
    "            pivotIdx += 1\n",
    "        yield A\n",
    "    swap(A, end, pivotIdx)\n",
    "    yield A\n",
    "\n",
    "    yield from quicksort(A, start, pivotIdx - 1)\n",
    "    yield from quicksort(A, pivotIdx + 1, end)\n",
    "\n",
    "def selectionsort(A):\n",
    "    \"\"\"In-place selection sort.\"\"\"\n",
    "    if len(A) == 1:\n",
    "        return\n",
    "\n",
    "    for i in range(len(A)):\n",
    "        # Find minimum unsorted value.\n",
    "        minVal = A[i]\n",
    "        minIdx = i\n",
    "        for j in range(i, len(A)):\n",
    "            if A[j] < minVal:\n",
    "                minVal = A[j]\n",
    "                minIdx = j\n",
    "            yield A\n",
    "        swap(A, i, minIdx)\n",
    "        yield A\n",
    "\n",
    "if __name__ == \"__main__\":\n",
    "    # Get user input to determine range of integers (1 to N) and desired\n",
    "    # sorting method (algorithm).\n",
    "    N = int(input(\"Enter number of integers: \"))\n",
    "    method_msg = \"Enter sorting method:\\n(b)ubble\\n(i)nsertion\\n(m)erge \\\n",
    "        \\n(q)uick\\n(s)election\\n\"\n",
    "    method = input(method_msg)\n",
    "\n",
    "    # Build and randomly shuffle list of integers.\n",
    "    A = [x + 1 for x in range(N)]\n",
    "    random.seed(time.time())\n",
    "    random.shuffle(A)\n",
    "\n",
    "    # Get appropriate generator to supply to matplotlib FuncAnimation method.\n",
    "    if method == \"b\":\n",
    "        title = \"Bubble sort\"\n",
    "        generator = bubblesort(A)\n",
    "    elif method == \"i\":\n",
    "        title = \"Insertion sort\"\n",
    "        generator = insertionsort(A)\n",
    "    elif method == \"m\":\n",
    "        title = \"Merge sort\"\n",
    "        generator = mergesort(A, 0, N - 1)\n",
    "    elif method == \"q\":\n",
    "        title = \"Quicksort\"\n",
    "        generator = quicksort(A, 0, N - 1)\n",
    "    else:\n",
    "        title = \"Selection sort\"\n",
    "        generator = selectionsort(A)\n",
    "\n",
    "    # Initialize figure and axis.\n",
    "    fig, ax = plt.subplots()\n",
    "    ax.set_title(title)\n",
    "\n",
    "    # Initialize a bar plot. Note that matplotlib.pyplot.bar() returns a\n",
    "    # list of rectangles (with each bar in the bar plot corresponding\n",
    "    # to one rectangle), which we store in bar_rects.\n",
    "    bar_rects = ax.bar(range(len(A)), A, align=\"edge\")\n",
    "\n",
    "    # Set axis limits. Set y axis upper limit high enough that the tops of\n",
    "    # the bars won't overlap with the text label.\n",
    "    ax.set_xlim(0, N)\n",
    "    ax.set_ylim(0, int(1.07 * N))\n",
    "\n",
    "    # Place a text label in the upper-left corner of the plot to display\n",
    "    # number of operations performed by the sorting algorithm (each \"yield\"\n",
    "    # is treated as 1 operation).\n",
    "    text = ax.text(0.02, 0.95, \"\", transform=ax.transAxes)\n",
    "\n",
    "    # Define function update_fig() for use with matplotlib.pyplot.FuncAnimation().\n",
    "    # To track the number of operations, i.e., iterations through which the\n",
    "    # animation has gone, define a variable \"iteration\". This variable will\n",
    "    # be passed to update_fig() to update the text label, and will also be\n",
    "    # incremented in update_fig(). For this increment to be reflected outside\n",
    "    # the function, we make \"iteration\" a list of 1 element, since lists (and\n",
    "    # other mutable objects) are passed by reference (but an integer would be\n",
    "    # passed by value).\n",
    "    # NOTE: Alternatively, iteration could be re-declared within update_fig()\n",
    "    # with the \"global\" keyword (or \"nonlocal\" keyword).\n",
    "    iteration = [0]\n",
    "    def update_fig(A, rects, iteration):\n",
    "        for rect, val in zip(rects, A):\n",
    "            rect.set_height(val)\n",
    "        iteration[0] += 1\n",
    "        text.set_text(\"# of operations: {}\".format(iteration[0]))\n",
    "\n",
    "    anim = animation.FuncAnimation(fig, func=update_fig,\n",
    "        fargs=(bar_rects, iteration), frames=generator, interval=1,\n",
    "        repeat=False)\n",
    "    plt.show()\n"
   ]
  },
  {
   "cell_type": "code",
   "execution_count": 18,
   "metadata": {},
   "outputs": [],
   "source": [
    "A = [x + 1 for x in range(37)]\n",
    "random.seed(time.time())\n",
    "random.shuffle(A)"
   ]
  },
  {
   "cell_type": "code",
   "execution_count": null,
   "metadata": {},
   "outputs": [],
   "source": [
    "\n"
   ]
  },
  {
   "cell_type": "code",
   "execution_count": 19,
   "metadata": {},
   "outputs": [
    {
     "data": {
      "text/plain": [
       "[17,\n",
       " 14,\n",
       " 16,\n",
       " 8,\n",
       " 28,\n",
       " 33,\n",
       " 3,\n",
       " 34,\n",
       " 37,\n",
       " 6,\n",
       " 18,\n",
       " 2,\n",
       " 23,\n",
       " 13,\n",
       " 10,\n",
       " 30,\n",
       " 35,\n",
       " 5,\n",
       " 22,\n",
       " 25,\n",
       " 29,\n",
       " 24,\n",
       " 21,\n",
       " 1,\n",
       " 26,\n",
       " 20,\n",
       " 36,\n",
       " 4,\n",
       " 31,\n",
       " 12,\n",
       " 19,\n",
       " 27,\n",
       " 9,\n",
       " 11,\n",
       " 32,\n",
       " 7,\n",
       " 15]"
      ]
     },
     "execution_count": 19,
     "metadata": {},
     "output_type": "execute_result"
    }
   ],
   "source": [
    "A"
   ]
  },
  {
   "cell_type": "code",
   "execution_count": 25,
   "metadata": {},
   "outputs": [
    {
     "data": {
      "text/plain": [
       "Text(0.5, 1.0, 'title')"
      ]
     },
     "execution_count": 25,
     "metadata": {},
     "output_type": "execute_result"
    },
    {
     "data": {
      "image/png": "[encoded data removed]",
      "text/plain": [
       "<Figure size 432x288 with 1 Axes>"
      ]
     },
     "metadata": {
      "needs_background": "light"
     },
     "output_type": "display_data"
    }
   ],
   "source": [
    "fig, ax = plt.subplots()\n",
    "ax.set_title('title')"
   ]
  },
  {
   "cell_type": "code",
   "execution_count": 22,
   "metadata": {},
   "outputs": [
    {
     "data": {
      "text/plain": [
       "<matplotlib.axes._subplots.AxesSubplot at 0x28097d977b8>"
      ]
     },
     "execution_count": 22,
     "metadata": {},
     "output_type": "execute_result"
    },
    {
     "data": {
      "image/png": "[encoded data removed]",
      "text/plain": [
       "<Figure size 432x288 with 1 Axes>"
      ]
     },
     "metadata": {
      "needs_background": "light"
     },
     "output_type": "display_data"
    }
   ],
   "source": [
    "plt.subplot()"
   ]
  },
  {
   "cell_type": "code",
   "execution_count": 24,
   "metadata": {},
   "outputs": [
    {
     "data": {
      "text/plain": [
       "Text(0.5, 1.0, 'title')"
      ]
     },
     "execution_count": 24,
     "metadata": {},
     "output_type": "execute_result"
    }
   ],
   "source": [
    "ax.set_title('title')"
   ]
  },
  {
   "cell_type": "code",
   "execution_count": 29,
   "metadata": {},
   "outputs": [
    {
     "data": {
      "image/png": "[encoded data removed]",
      "text/plain": [
       "<Figure size 432x288 with 1 Axes>"
      ]
     },
     "metadata": {
      "needs_background": "light"
     },
     "output_type": "display_data"
    }
   ],
   "source": [
    "grp,ax = plt.subplots()\n"
   ]
  },
  {
   "cell_type": "code",
   "execution_count": 35,
   "metadata": {},
   "outputs": [],
   "source": [
    "bars = ax.bar(range(38),34)"
   ]
  },
  {
   "cell_type": "code",
   "execution_count": 36,
   "metadata": {},
   "outputs": [],
   "source": [
    "text = ax.text(0.02, 0.95, \"\", transform=ax.transAxes)"
   ]
  },
  {
   "cell_type": "code",
   "execution_count": 37,
   "metadata": {},
   "outputs": [
    {
     "data": {
      "text/plain": [
       "Text(0.02, 0.95, '')"
      ]
     },
     "execution_count": 37,
     "metadata": {},
     "output_type": "execute_result"
    }
   ],
   "source": [
    "text"
   ]
  },
  {
   "cell_type": "code",
   "execution_count": 43,
   "metadata": {},
   "outputs": [
    {
     "data": {
      "text/plain": [
       "Text(0.5, 1.0, 'Simple plot')"
      ]
     },
     "execution_count": 43,
     "metadata": {},
     "output_type": "execute_result"
    },
    {
     "data": {
      "image/png": "[encoded data removed]",
      "text/plain": [
       "<Figure size 432x288 with 1 Axes>"
      ]
     },
     "metadata": {
      "needs_background": "light"
     },
     "output_type": "display_data"
    }
   ],
   "source": [
    "fig, ax = plt.subplots()\n",
    "ax.plot(3, 4)\n",
    "ax.set_title('Simple plot')\n"
   ]
  },
  {
   "cell_type": "code",
   "execution_count": 53,
   "metadata": {},
   "outputs": [
    {
     "data": {
      "text/plain": [
       "<matplotlib.axes._subplots.AxesSubplot at 0x2809a588630>"
      ]
     },
     "execution_count": 53,
     "metadata": {},
     "output_type": "execute_result"
    },
    {
     "data": {
      "image/png": "[encoded data removed]",
      "text/plain": [
       "<Figure size 432x288 with 1 Axes>"
      ]
     },
     "metadata": {
      "needs_background": "light"
     },
     "output_type": "display_data"
    }
   ],
   "source": []
  },
  {
   "cell_type": "code",
   "execution_count": 55,
   "metadata": {},
   "outputs": [
    {
     "data": {
      "text/plain": [
       "<Figure size 432x288 with 0 Axes>"
      ]
     },
     "metadata": {},
     "output_type": "display_data"
    }
   ],
   "source": [
    "plt.figure()\n",
    "plt.show()"
   ]
  },
  {
   "cell_type": "code",
   "execution_count": 57,
   "metadata": {},
   "outputs": [
    {
     "data": {
      "text/plain": [
       "<matplotlib.axes._subplots.AxesSubplot at 0x2809a635710>"
      ]
     },
     "execution_count": 57,
     "metadata": {},
     "output_type": "execute_result"
    },
    {
     "data": {
      "image/png": "[encoded data removed]",
      "text/plain": [
       "<Figure size 432x288 with 1 Axes>"
      ]
     },
     "metadata": {
      "needs_background": "light"
     },
     "output_type": "display_data"
    }
   ],
   "source": [
    "plt.subplot(1,1,1)"
   ]
  },
  {
   "cell_type": "code",
   "execution_count": 63,
   "metadata": {},
   "outputs": [
    {
     "data": {
      "image/png": "[encoded data removed]",
      "text/plain": [
       "<Figure size 432x288 with 1 Axes>"
      ]
     },
     "metadata": {
      "needs_background": "light"
     },
     "output_type": "display_data"
    },
    {
     "data": {
      "image/png": "[encoded data removed]",
      "text/plain": [
       "<Figure size 432x288 with 1 Axes>"
      ]
     },
     "metadata": {
      "needs_background": "light"
     },
     "output_type": "display_data"
    },
    {
     "data": {
      "image/png": "[encoded data removed]",
      "text/plain": [
       "<Figure size 432x288 with 1 Axes>"
      ]
     },
     "metadata": {
      "needs_background": "light"
     },
     "output_type": "display_data"
    },
    {
     "data": {
      "image/png": "[encoded data removed]",
      "text/plain": [
       "<Figure size 432x288 with 1 Axes>"
      ]
     },
     "metadata": {
      "needs_background": "light"
     },
     "output_type": "display_data"
    }
   ],
   "source": [
    "plt.subplot(2,3,1)\n",
    "plt.plot([2,3,4],[5,4,3])\n",
    "plt.show()\n",
    "plt.subplot(2,3,4)\n",
    "plt.plot([2,3,4],[5,4,3])\n",
    "plt.show()\n",
    "plt.subplot(2,3,3)\n",
    "plt.plot([2,3,4],[5,4,3])\n",
    "plt.show()\n",
    "plt.subplot(2,3,2)\n",
    "plt.plot([2,3,4],[5,4,3])\n",
    "plt.show()"
   ]
  },
  {
   "cell_type": "code",
   "execution_count": 96,
   "metadata": {},
   "outputs": [
    {
     "data": {
      "text/plain": [
       "<BarContainer object of 30 artists>"
      ]
     },
     "execution_count": 96,
     "metadata": {},
     "output_type": "execute_result"
    },
    {
     "data": {
      "image/png": "[encoded data removed]",
      "text/plain": [
       "<Figure size 432x288 with 1 Axes>"
      ]
     },
     "metadata": {
      "needs_background": "light"
     },
     "output_type": "display_data"
    }
   ],
   "source": [
    "a = [c for c in range(30)]\n",
    "fig,axis = plt.subplots()\n",
    "axis.bar(range(len(a)),a,align = \"edge\")"
   ]
  },
  {
   "cell_type": "code",
   "execution_count": 97,
   "metadata": {},
   "outputs": [
    {
     "data": {
      "text/plain": [
       "<BarContainer object of 30 artists>"
      ]
     },
     "execution_count": 97,
     "metadata": {},
     "output_type": "execute_result"
    },
    {
     "data": {
      "image/png": "[encoded data removed]",
      "text/plain": [
       "<Figure size 432x288 with 4 Axes>"
      ]
     },
     "metadata": {
      "needs_background": "light"
     },
     "output_type": "display_data"
    }
   ],
   "source": [
    "b = [c for c in range(30)]\n",
    "fig,axis = plt.subplots(2,2)\n",
    "axis[0,1].bar(range(len(b)),b,align = \"edge\")\n",
    "axis[0,0].bar(range(len(b)),b,align = \"edge\")\n",
    "axis[1,1].bar(range(len(b)),b,align = \"edge\")"
   ]
  },
  {
   "cell_type": "code",
   "execution_count": 98,
   "metadata": {},
   "outputs": [],
   "source": [
    "random.shuffle(a)"
   ]
  },
  {
   "cell_type": "code",
   "execution_count": 99,
   "metadata": {},
   "outputs": [],
   "source": [
    "b = [c +1 for c in range(30)]"
   ]
  },
  {
   "cell_type": "code",
   "execution_count": 100,
   "metadata": {},
   "outputs": [
    {
     "data": {
      "text/plain": [
       "[20,\n",
       " 29,\n",
       " 16,\n",
       " 26,\n",
       " 5,\n",
       " 7,\n",
       " 3,\n",
       " 23,\n",
       " 22,\n",
       " 25,\n",
       " 19,\n",
       " 17,\n",
       " 18,\n",
       " 9,\n",
       " 15,\n",
       " 1,\n",
       " 13,\n",
       " 14,\n",
       " 24,\n",
       " 4,\n",
       " 12,\n",
       " 6,\n",
       " 0,\n",
       " 10,\n",
       " 21,\n",
       " 27,\n",
       " 11,\n",
       " 2,\n",
       " 28,\n",
       " 8]"
      ]
     },
     "execution_count": 100,
     "metadata": {},
     "output_type": "execute_result"
    }
   ],
   "source": [
    "a"
   ]
  },
  {
   "cell_type": "code",
   "execution_count": 101,
   "metadata": {},
   "outputs": [
    {
     "data": {
      "text/plain": [
       "<zip at 0x2809a880548>"
      ]
     },
     "execution_count": 101,
     "metadata": {},
     "output_type": "execute_result"
    }
   ],
   "source": [
    "zip(a,b)"
   ]
  },
  {
   "cell_type": "code",
   "execution_count": 102,
   "metadata": {},
   "outputs": [
    {
     "name": "stdout",
     "output_type": "stream",
     "text": [
      "i: 20   ,j : 1\n",
      "i: 29   ,j : 2\n",
      "i: 16   ,j : 3\n",
      "i: 26   ,j : 4\n",
      "i: 5   ,j : 5\n",
      "i: 7   ,j : 6\n",
      "i: 3   ,j : 7\n",
      "i: 23   ,j : 8\n",
      "i: 22   ,j : 9\n",
      "i: 25   ,j : 10\n",
      "i: 19   ,j : 11\n",
      "i: 17   ,j : 12\n",
      "i: 18   ,j : 13\n",
      "i: 9   ,j : 14\n",
      "i: 15   ,j : 15\n",
      "i: 1   ,j : 16\n",
      "i: 13   ,j : 17\n",
      "i: 14   ,j : 18\n",
      "i: 24   ,j : 19\n",
      "i: 4   ,j : 20\n",
      "i: 12   ,j : 21\n",
      "i: 6   ,j : 22\n",
      "i: 0   ,j : 23\n",
      "i: 10   ,j : 24\n",
      "i: 21   ,j : 25\n",
      "i: 27   ,j : 26\n",
      "i: 11   ,j : 27\n",
      "i: 2   ,j : 28\n",
      "i: 28   ,j : 29\n",
      "i: 8   ,j : 30\n"
     ]
    }
   ],
   "source": [
    "for i,j in zip(a,b):\n",
    "    print('i: {}   ,j : {}'.format(i,j))"
   ]
  },
  {
   "cell_type": "code",
   "execution_count": 103,
   "metadata": {},
   "outputs": [
    {
     "ename": "TypeError",
     "evalue": "__init__() missing 2 required positional arguments: 'fig' and 'func'",
     "output_type": "error",
     "traceback": [
      "\u001b[1;31m---------------------------------------------------------------------------\u001b[0m",
      "\u001b[1;31mTypeError\u001b[0m                                 Traceback (most recent call last)",
      "\u001b[1;32m<ipython-input-103-0137a3c116dd>\u001b[0m in \u001b[0;36m<module>\u001b[1;34m\u001b[0m\n\u001b[1;32m----> 1\u001b[1;33m \u001b[0manimation\u001b[0m\u001b[1;33m.\u001b[0m\u001b[0mFuncAnimation\u001b[0m\u001b[1;33m(\u001b[0m\u001b[1;33m)\u001b[0m\u001b[1;33m\u001b[0m\u001b[1;33m\u001b[0m\u001b[0m\n\u001b[0m",
      "\u001b[1;31mTypeError\u001b[0m: __init__() missing 2 required positional arguments: 'fig' and 'func'"
     ]
    }
   ],
   "source": [
    "animation.FuncAnimation()"
   ]
  },
  {
   "cell_type": "code",
   "execution_count": 104,
   "metadata": {},
   "outputs": [],
   "source": [
    "p = axis[0,1].text(2,1,\"\")"
   ]
  },
  {
   "cell_type": "code",
   "execution_count": 105,
   "metadata": {},
   "outputs": [],
   "source": [
    "p.set_text('Text Set: ')"
   ]
  },
  {
   "cell_type": "code",
   "execution_count": 106,
   "metadata": {},
   "outputs": [],
   "source": [
    "plt.show()"
   ]
  },
  {
   "cell_type": "code",
   "execution_count": 113,
   "metadata": {
    "scrolled": true
   },
   "outputs": [
    {
     "data": {
      "text/plain": [
       "<BarContainer object of 3 artists>"
      ]
     },
     "execution_count": 113,
     "metadata": {},
     "output_type": "execute_result"
    },
    {
     "data": {
      "image/png": "[encoded data removed]",
      "text/plain": [
       "<Figure size 432x288 with 1 Axes>"
      ]
     },
     "metadata": {
      "needs_background": "light"
     },
     "output_type": "display_data"
    }
   ],
   "source": [
    "fig,ax = plt.subplots()\n",
    "ax.bar(range(3),0.5,0.8,align = \"edge\")"
   ]
  },
  {
   "cell_type": "code",
   "execution_count": 111,
   "metadata": {},
   "outputs": [],
   "source": [
    "plt.show()"
   ]
  },
  {
   "cell_type": "code",
   "execution_count": 114,
   "metadata": {},
   "outputs": [
    {
     "data": {
      "text/plain": [
       "<matplotlib.legend.Legend at 0x2809ce846d8>"
      ]
     },
     "execution_count": 114,
     "metadata": {},
     "output_type": "execute_result"
    },
    {
     "data": {
      "image/png": "[encoded data removed]",
      "text/plain": [
       "<Figure size 432x288 with 1 Axes>"
      ]
     },
     "metadata": {
      "needs_background": "light"
     },
     "output_type": "display_data"
    }
   ],
   "source": [
    "plt.legend('legend')"
   ]
  },
  {
   "cell_type": "code",
   "execution_count": null,
   "metadata": {},
   "outputs": [],
   "source": [
    "ax.text()"
   ]
  }
 ],
 "metadata": {
  "kernelspec": {
   "display_name": "Python 3",
   "language": "python",
   "name": "python3"
  },
  "language_info": {
   "codemirror_mode": {
    "name": "ipython",
    "version": 3
   },
   "file_extension": ".py",
   "mimetype": "text/x-python",
   "name": "python",
   "nbconvert_exporter": "python",
   "pygments_lexer": "ipython3",
   "version": "3.6.7"
  }
 },
 "nbformat": 4,
 "nbformat_minor": 2
}
