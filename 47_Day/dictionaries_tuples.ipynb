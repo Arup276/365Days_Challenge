{
 "cells": [
  {
   "cell_type": "markdown",
   "metadata": {},
   "source": [
    "# Dictionaries"
   ]
  },
  {
   "cell_type": "code",
   "execution_count": 2,
   "metadata": {},
   "outputs": [],
   "source": [
    "dic = {}\n"
   ]
  },
  {
   "cell_type": "code",
   "execution_count": 3,
   "metadata": {},
   "outputs": [],
   "source": [
    "dic['roll'] = 23"
   ]
  },
  {
   "cell_type": "code",
   "execution_count": 8,
   "metadata": {},
   "outputs": [],
   "source": [
    "dic['reg1'] = dic['roll'] + 7"
   ]
  },
  {
   "cell_type": "code",
   "execution_count": 18,
   "metadata": {},
   "outputs": [
    {
     "data": {
      "text/plain": [
       "{'roll': 23, 'reg': 30, 'reg1': 30}"
      ]
     },
     "execution_count": 18,
     "metadata": {},
     "output_type": "execute_result"
    }
   ],
   "source": [
    "dic"
   ]
  },
  {
   "cell_type": "code",
   "execution_count": 72,
   "metadata": {},
   "outputs": [
    {
     "name": "stdout",
     "output_type": "stream",
     "text": [
      "roll: 23\n",
      "reg: 30\n",
      "reg1: 30\n"
     ]
    }
   ],
   "source": [
    "for i in dic:\n",
    "    print(i+':',dic[i])"
   ]
  },
  {
   "cell_type": "code",
   "execution_count": 82,
   "metadata": {},
   "outputs": [
    {
     "data": {
      "text/plain": [
       "dict_items([('roll', 23), ('reg', 30), ('reg1', 30)])"
      ]
     },
     "execution_count": 82,
     "metadata": {},
     "output_type": "execute_result"
    }
   ],
   "source": [
    "dic.items()\n",
    "#return the key and value tuple"
   ]
  },
  {
   "cell_type": "code",
   "execution_count": 83,
   "metadata": {},
   "outputs": [
    {
     "name": "stdout",
     "output_type": "stream",
     "text": [
      "roll: 23\n",
      "reg: 30\n",
      "reg1: 30\n"
     ]
    }
   ],
   "source": [
    "for key,value in dic.items():\n",
    "    print(key+':',value)"
   ]
  },
  {
   "cell_type": "code",
   "execution_count": 86,
   "metadata": {},
   "outputs": [
    {
     "data": {
      "text/plain": [
       "30"
      ]
     },
     "execution_count": 86,
     "metadata": {},
     "output_type": "execute_result"
    }
   ],
   "source": [
    "bigcount = []\n",
    "for key,value in dic.items():\n",
    "    bigcount.append(value)\n",
    "max(bigcount)    "
   ]
  },
  {
   "cell_type": "code",
   "execution_count": 87,
   "metadata": {},
   "outputs": [
    {
     "name": "stdout",
     "output_type": "stream",
     "text": [
      "reg1: 30\n"
     ]
    }
   ],
   "source": [
    "bgcnt = None\n",
    "bgwrd = None\n",
    "for key,value in dic.items():\n",
    "    if bgcnt is None or value > bgcnt:\n",
    "        bgcnt = value\n",
    "        bgwrd = key\n",
    "print(key+':',value)"
   ]
  },
  {
   "cell_type": "code",
   "execution_count": 84,
   "metadata": {},
   "outputs": [],
   "source": [
    "lst = list(dic)"
   ]
  },
  {
   "cell_type": "code",
   "execution_count": 76,
   "metadata": {},
   "outputs": [
    {
     "data": {
      "text/plain": [
       "dict_values([23, 30, 30])"
      ]
     },
     "execution_count": 76,
     "metadata": {},
     "output_type": "execute_result"
    }
   ],
   "source": [
    "dic.values()"
   ]
  },
  {
   "cell_type": "code",
   "execution_count": 64,
   "metadata": {},
   "outputs": [
    {
     "data": {
      "text/plain": [
       "23"
      ]
     },
     "execution_count": 64,
     "metadata": {},
     "output_type": "execute_result"
    }
   ],
   "source": [
    "dic.get('roll')"
   ]
  },
  {
   "cell_type": "code",
   "execution_count": 44,
   "metadata": {},
   "outputs": [],
   "source": [
    "counts = dict()\n",
    "nam = ['bob','monti','namis','bob','csv','bob']"
   ]
  },
  {
   "cell_type": "code",
   "execution_count": 63,
   "metadata": {},
   "outputs": [
    {
     "data": {
      "text/plain": [
       "{'bob': 18, 'monti': 6, 'namis': 6, 'csv': 6}"
      ]
     },
     "execution_count": 63,
     "metadata": {},
     "output_type": "execute_result"
    }
   ],
   "source": [
    "for name in nam:\n",
    "    if name not in counts:\n",
    "        counts[name] = 1\n",
    "    else:\n",
    "        counts[name] = counts[name] + 1\n",
    "counts"
   ]
  },
  {
   "cell_type": "code",
   "execution_count": 48,
   "metadata": {},
   "outputs": [],
   "source": [
    "name = 'Google LLC is an American multinational technology company that specializes in Internet-related services and products, which include online advertising technologies, search engine, cloud computing, software, and hardware. It is considered one of the Big Four technology companies, alongside Amazon'"
   ]
  },
  {
   "cell_type": "code",
   "execution_count": 33,
   "metadata": {
    "collapsed": true
   },
   "outputs": [
    {
     "data": {
      "text/plain": [
       "['Google',\n",
       " 'LLC',\n",
       " 'is',\n",
       " 'an',\n",
       " 'American',\n",
       " 'multinational',\n",
       " 'technology',\n",
       " 'company',\n",
       " 'that',\n",
       " 'specializes',\n",
       " 'in',\n",
       " 'Internet-related',\n",
       " 'services',\n",
       " 'and',\n",
       " 'products,',\n",
       " 'which',\n",
       " 'include',\n",
       " 'online',\n",
       " 'advertising',\n",
       " 'technologies,',\n",
       " 'search',\n",
       " 'engine,',\n",
       " 'cloud',\n",
       " 'computing,',\n",
       " 'software,',\n",
       " 'and',\n",
       " 'hardware.',\n",
       " 'It',\n",
       " 'is',\n",
       " 'considered',\n",
       " 'one',\n",
       " 'of',\n",
       " 'the',\n",
       " 'Big',\n",
       " 'Four',\n",
       " 'technology',\n",
       " 'companies,',\n",
       " 'alongside',\n",
       " 'Amazon']"
      ]
     },
     "execution_count": 33,
     "metadata": {},
     "output_type": "execute_result"
    }
   ],
   "source": [
    "name.split(' ')"
   ]
  },
  {
   "cell_type": "code",
   "execution_count": 34,
   "metadata": {
    "collapsed": true
   },
   "outputs": [
    {
     "data": {
      "text/plain": [
       "'Google LLC is an American multinational technology company that specializes in Internet-related services and products, which include online advertising technologies, search engine, cloud computing, software, and hardware. It is considered one of the Big Four technology companies, alongside Amazon'"
      ]
     },
     "execution_count": 34,
     "metadata": {},
     "output_type": "execute_result"
    }
   ],
   "source": [
    "name"
   ]
  },
  {
   "cell_type": "code",
   "execution_count": 35,
   "metadata": {},
   "outputs": [],
   "source": [
    "name = name.split(' ')"
   ]
  },
  {
   "cell_type": "code",
   "execution_count": 36,
   "metadata": {
    "collapsed": true
   },
   "outputs": [
    {
     "data": {
      "text/plain": [
       "['Google',\n",
       " 'LLC',\n",
       " 'is',\n",
       " 'an',\n",
       " 'American',\n",
       " 'multinational',\n",
       " 'technology',\n",
       " 'company',\n",
       " 'that',\n",
       " 'specializes',\n",
       " 'in',\n",
       " 'Internet-related',\n",
       " 'services',\n",
       " 'and',\n",
       " 'products,',\n",
       " 'which',\n",
       " 'include',\n",
       " 'online',\n",
       " 'advertising',\n",
       " 'technologies,',\n",
       " 'search',\n",
       " 'engine,',\n",
       " 'cloud',\n",
       " 'computing,',\n",
       " 'software,',\n",
       " 'and',\n",
       " 'hardware.',\n",
       " 'It',\n",
       " 'is',\n",
       " 'considered',\n",
       " 'one',\n",
       " 'of',\n",
       " 'the',\n",
       " 'Big',\n",
       " 'Four',\n",
       " 'technology',\n",
       " 'companies,',\n",
       " 'alongside',\n",
       " 'Amazon']"
      ]
     },
     "execution_count": 36,
     "metadata": {},
     "output_type": "execute_result"
    }
   ],
   "source": [
    "name"
   ]
  },
  {
   "cell_type": "code",
   "execution_count": 37,
   "metadata": {},
   "outputs": [],
   "source": [
    "cnt = dict()"
   ]
  },
  {
   "cell_type": "code",
   "execution_count": 62,
   "metadata": {
    "collapsed": true
   },
   "outputs": [
    {
     "data": {
      "text/plain": [
       "{'Google': 1,\n",
       " 'LLC': 1,\n",
       " 'is': 1,\n",
       " 'an': 1,\n",
       " 'American': 1,\n",
       " 'multinational': 1,\n",
       " 'technology': 1,\n",
       " 'company': 1,\n",
       " 'that': 1,\n",
       " 'specializes': 1,\n",
       " 'in': 1,\n",
       " 'Internet-related': 1,\n",
       " 'services': 1,\n",
       " 'and': 1,\n",
       " 'products,': 1,\n",
       " 'which': 1,\n",
       " 'include': 1,\n",
       " 'online': 1,\n",
       " 'advertising': 1,\n",
       " 'technologies,': 1,\n",
       " 'search': 1,\n",
       " 'engine,': 1,\n",
       " 'cloud': 1,\n",
       " 'computing,': 1,\n",
       " 'software,': 1,\n",
       " 'hardware.': 1,\n",
       " 'It': 1,\n",
       " 'considered': 1,\n",
       " 'one': 1,\n",
       " 'of': 1,\n",
       " 'the': 1,\n",
       " 'Big': 1,\n",
       " 'Four': 1,\n",
       " 'companies,': 1,\n",
       " 'alongside': 1,\n",
       " 'Amazon': 1,\n",
       " 'b': 13,\n",
       " 'o': 7}"
      ]
     },
     "execution_count": 62,
     "metadata": {},
     "output_type": "execute_result"
    }
   ],
   "source": [
    "for n in name:\n",
    "    if n not in cnt:\n",
    "        cnt[n] = 1\n",
    "    else:\n",
    "        cnt[n] = cnt[n]+1\n",
    "cnt    "
   ]
  },
  {
   "cell_type": "code",
   "execution_count": 60,
   "metadata": {
    "collapsed": true
   },
   "outputs": [
    {
     "data": {
      "text/plain": [
       "{'Google': 1,\n",
       " 'LLC': 1,\n",
       " 'is': 1,\n",
       " 'an': 1,\n",
       " 'American': 1,\n",
       " 'multinational': 1,\n",
       " 'technology': 1,\n",
       " 'company': 1,\n",
       " 'that': 1,\n",
       " 'specializes': 1,\n",
       " 'in': 1,\n",
       " 'Internet-related': 1,\n",
       " 'services': 1,\n",
       " 'and': 1,\n",
       " 'products,': 1,\n",
       " 'which': 1,\n",
       " 'include': 1,\n",
       " 'online': 1,\n",
       " 'advertising': 1,\n",
       " 'technologies,': 1,\n",
       " 'search': 1,\n",
       " 'engine,': 1,\n",
       " 'cloud': 1,\n",
       " 'computing,': 1,\n",
       " 'software,': 1,\n",
       " 'hardware.': 1,\n",
       " 'It': 1,\n",
       " 'considered': 1,\n",
       " 'one': 1,\n",
       " 'of': 1,\n",
       " 'the': 1,\n",
       " 'Big': 1,\n",
       " 'Four': 1,\n",
       " 'companies,': 1,\n",
       " 'alongside': 1,\n",
       " 'Amazon': 1,\n",
       " 'b': 9,\n",
       " 'o': 5}"
      ]
     },
     "execution_count": 60,
     "metadata": {},
     "output_type": "execute_result"
    }
   ],
   "source": [
    "cnt"
   ]
  },
  {
   "cell_type": "code",
   "execution_count": 88,
   "metadata": {},
   "outputs": [],
   "source": [
    "a = dict()"
   ]
  },
  {
   "cell_type": "code",
   "execution_count": 89,
   "metadata": {},
   "outputs": [],
   "source": [
    "a = {'value':5}"
   ]
  },
  {
   "cell_type": "code",
   "execution_count": 90,
   "metadata": {},
   "outputs": [
    {
     "data": {
      "text/plain": [
       "{'value': 5}"
      ]
     },
     "execution_count": 90,
     "metadata": {},
     "output_type": "execute_result"
    }
   ],
   "source": [
    "a"
   ]
  },
  {
   "cell_type": "markdown",
   "metadata": {},
   "source": [
    "# Tuples"
   ]
  },
  {
   "cell_type": "code",
   "execution_count": 92,
   "metadata": {},
   "outputs": [],
   "source": [
    "a = ('a','b','c')\n",
    "z = (1,2,3)"
   ]
  },
  {
   "cell_type": "code",
   "execution_count": 93,
   "metadata": {},
   "outputs": [
    {
     "ename": "TypeError",
     "evalue": "'tuple' object does not support item assignment",
     "output_type": "error",
     "traceback": [
      "\u001b[1;31m---------------------------------------------------------------------------\u001b[0m",
      "\u001b[1;31mTypeError\u001b[0m                                 Traceback (most recent call last)",
      "\u001b[1;32m<ipython-input-93-0ed6d63cfa38>\u001b[0m in \u001b[0;36m<module>\u001b[1;34m\u001b[0m\n\u001b[1;32m----> 1\u001b[1;33m \u001b[0mz\u001b[0m\u001b[1;33m[\u001b[0m\u001b[1;36m1\u001b[0m\u001b[1;33m]\u001b[0m \u001b[1;33m=\u001b[0m \u001b[1;36m4\u001b[0m\u001b[1;33m\u001b[0m\u001b[1;33m\u001b[0m\u001b[0m\n\u001b[0m",
      "\u001b[1;31mTypeError\u001b[0m: 'tuple' object does not support item assignment"
     ]
    }
   ],
   "source": [
    "# We can't change tuples this are immutable\n",
    "z[1] = 4"
   ]
  },
  {
   "cell_type": "code",
   "execution_count": null,
   "metadata": {},
   "outputs": [],
   "source": []
  }
 ],
 "metadata": {
  "kernelspec": {
   "display_name": "Python 3",
   "language": "python",
   "name": "python3"
  },
  "language_info": {
   "codemirror_mode": {
    "name": "ipython",
    "version": 3
   },
   "file_extension": ".py",
   "mimetype": "text/x-python",
   "name": "python",
   "nbconvert_exporter": "python",
   "pygments_lexer": "ipython3",
   "version": "3.7.1"
  }
 },
 "nbformat": 4,
 "nbformat_minor": 2
}
