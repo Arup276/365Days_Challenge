{
 "cells": [
  {
   "cell_type": "markdown",
   "metadata": {},
   "source": [
    "#  [ [left] | [value] | [right] ]"
   ]
  },
  {
   "cell_type": "code",
   "execution_count": 1,
   "metadata": {},
   "outputs": [],
   "source": [
    "# create the Node left and right none and value is value\n",
    "class Node(object):\n",
    "    def __init__(self,value):\n",
    "        self.value = value\n",
    "        self.left = None\n",
    "        self.right = None"
   ]
  },
  {
   "cell_type": "code",
   "execution_count": 29,
   "metadata": {},
   "outputs": [
    {
     "name": "stdout",
     "output_type": "stream",
     "text": [
      "Pre-order :  1 -> 2 -> 4 -> 5 -> 3 -> \n",
      "In-order  :  4 -> 2 -> 5 -> 1 -> 3 -> \n",
      "Post-order:  4 -> 5 -> 2 -> 3 -> 1 -> \n"
     ]
    }
   ],
   "source": [
    "class BinaryTree(object):\n",
    "    def __init__(self,root):\n",
    "        self.root = Node(root)\n",
    "    \n",
    "    def pre_order(self,start,result):\n",
    "        \"\"\"root -> left -> right\"\"\"\n",
    "        if start:\n",
    "            result += (str(start.value) + ' -> ') # first print the root node\n",
    "            result = self.pre_order(start.left,result) # then recursivey call left subtree\n",
    "            result = self.pre_order(start.right,result) # aftere the function call finished then all the right subb tree\n",
    "        return result # return the all stored result\n",
    "    \n",
    "    def in_order(self,start,result):\n",
    "        \"\"\"left -> root -> right\"\"\"\n",
    "        if start:\n",
    "            result = self.in_order(start.left,result) # first call the left sub tree\n",
    "            result += (str(start.value)+' -> ') # store the root \n",
    "            result = self.in_order(start.right,result) # then call right subtree\n",
    "        return result \n",
    "\n",
    "    def post_order(self,start,result):\n",
    "        \"\"\"left -> right -> root\"\"\"\n",
    "        if start:\n",
    "            result = self.post_order(start.left,result)\n",
    "            result = self.post_order(start.right,result)\n",
    "            result += (str(start.value) + ' -> ')\n",
    "        return result\n",
    "\n",
    "    \n",
    "\n",
    "    \n",
    "#        1\n",
    "#       / \\\n",
    "#      2   3\n",
    "#     / \\ \n",
    "#    4   5\n",
    "\n",
    "bt = BinaryTree(1)\n",
    "bt.root.left = Node(2)\n",
    "bt.root.right = Node(3)\n",
    "bt.root.left.left = Node(4)\n",
    "bt.root.left.right = Node(5)\n",
    "print('Pre-order : ',bt.pre_order(bt.root,''))\n",
    "print('In-order  : ',bt.in_order(bt.root,''))\n",
    "print('Post-order: ',bt.post_order(bt.root,''))"
   ]
  },
  {
   "cell_type": "code",
   "execution_count": 30,
   "metadata": {},
   "outputs": [
    {
     "data": {
      "text/plain": [
       "'4 -> 2 -> 5 -> 1 -> 3 -> '"
      ]
     },
     "execution_count": 30,
     "metadata": {},
     "output_type": "execute_result"
    }
   ],
   "source": [
    "bt.in_order(bt.root,'')"
   ]
  },
  {
   "cell_type": "code",
   "execution_count": 24,
   "metadata": {},
   "outputs": [
    {
     "data": {
      "text/plain": [
       "'4 -> 5 -> 2 -> 3 -> 1 -> '"
      ]
     },
     "execution_count": 24,
     "metadata": {},
     "output_type": "execute_result"
    }
   ],
   "source": [
    "bt.post_order(bt.root,'')"
   ]
  },
  {
   "cell_type": "code",
   "execution_count": null,
   "metadata": {},
   "outputs": [],
   "source": []
  },
  {
   "cell_type": "code",
   "execution_count": null,
   "metadata": {},
   "outputs": [],
   "source": []
  }
 ],
 "metadata": {
  "kernelspec": {
   "display_name": "Python 3",
   "language": "python",
   "name": "python3"
  },
  "language_info": {
   "codemirror_mode": {
    "name": "ipython",
    "version": 3
   },
   "file_extension": ".py",
   "mimetype": "text/x-python",
   "name": "python",
   "nbconvert_exporter": "python",
   "pygments_lexer": "ipython3",
   "version": "3.6.7"
  }
 },
 "nbformat": 4,
 "nbformat_minor": 2
}
