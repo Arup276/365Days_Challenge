{
 "cells": [
  {
   "cell_type": "code",
   "execution_count": 85,
   "metadata": {},
   "outputs": [],
   "source": [
    "#Quick Sort\n",
    "\n",
    "def quick(arr):\n",
    "    start = 0\n",
    "    end = len(arr)-1\n",
    "    #print(start,end,arr)\n",
    "    quicksort(arr,start,end)\n",
    "    \n",
    "    \n",
    "def quicksort(arr,start,end):\n",
    "    if start < end:\n",
    "        pindex = partition(arr,start,end)\n",
    "        print(pindex)\n",
    "        quicksort(arr,start,pindex-1)\n",
    "        quicksort(arr,pindex+1,end)\n",
    "        \n",
    "def partition(arr,start,end):\n",
    "    end_ind = end\n",
    "    pivot = arr[end]\n",
    "    pindex = start\n",
    "    for i in range(start,end):\n",
    "        if arr[i] <= pivot:\n",
    "            arr[i],arr[pindex]=arr[pindex],arr[i]\n",
    "            pindex += 1\n",
    "            \n",
    "    arr[end_ind],arr[pindex] = arr[pindex],arr[end_ind] # pivot,arr[pindex] = arr[pindex],pivot ---this is not work because last position is not changing\n",
    "    print(arr)\n",
    "    #print('A: pindex',pindex)\n",
    "    return pindex"
   ]
  },
  {
   "cell_type": "code",
   "execution_count": 83,
   "metadata": {},
   "outputs": [
    {
     "name": "stdout",
     "output_type": "stream",
     "text": [
      "[1, 5, 3, 9, 8]\n",
      "0\n",
      "[1, 5, 3, 8, 9]\n",
      "3\n",
      "[1, 3, 5, 8, 9]\n",
      "1\n"
     ]
    }
   ],
   "source": [
    "quick(a)"
   ]
  },
  {
   "cell_type": "code",
   "execution_count": 82,
   "metadata": {},
   "outputs": [],
   "source": [
    "a = [8,5,3,9,1]"
   ]
  },
  {
   "cell_type": "code",
   "execution_count": 84,
   "metadata": {},
   "outputs": [
    {
     "data": {
      "text/plain": [
       "[1, 3, 5, 8, 9]"
      ]
     },
     "execution_count": 84,
     "metadata": {},
     "output_type": "execute_result"
    }
   ],
   "source": [
    "a"
   ]
  },
  {
   "cell_type": "code",
   "execution_count": null,
   "metadata": {},
   "outputs": [],
   "source": []
  }
 ],
 "metadata": {
  "kernelspec": {
   "display_name": "Python 3",
   "language": "python",
   "name": "python3"
  },
  "language_info": {
   "codemirror_mode": {
    "name": "ipython",
    "version": 3
   },
   "file_extension": ".py",
   "mimetype": "text/x-python",
   "name": "python",
   "nbconvert_exporter": "python",
   "pygments_lexer": "ipython3",
   "version": "3.6.7"
  }
 },
 "nbformat": 4,
 "nbformat_minor": 2
}
