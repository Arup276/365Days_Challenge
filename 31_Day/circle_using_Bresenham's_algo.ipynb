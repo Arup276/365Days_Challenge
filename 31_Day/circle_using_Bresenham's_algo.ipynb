{
 "cells": [
  {
   "cell_type": "code",
   "execution_count": 82,
   "metadata": {},
   "outputs": [],
   "source": [
    "# Dependencies\n",
    "import matplotlib.pyplot as plt "
   ]
  },
  {
   "cell_type": "code",
   "execution_count": 93,
   "metadata": {},
   "outputs": [
    {
     "name": "stdout",
     "output_type": "stream",
     "text": [
      "Enter the radius of the circle: 20\n"
     ]
    }
   ],
   "source": [
    "# taking input\n",
    "radius = int(input(\"Enter the radius of the circle: \"))"
   ]
  },
  {
   "cell_type": "code",
   "execution_count": 94,
   "metadata": {},
   "outputs": [],
   "source": [
    "# initialize the circle start point(x,y)\n",
    "x = 0\n",
    "y = radius"
   ]
  },
  {
   "cell_type": "code",
   "execution_count": 95,
   "metadata": {},
   "outputs": [
    {
     "data": {
      "text/plain": [
       "-37"
      ]
     },
     "execution_count": 95,
     "metadata": {},
     "output_type": "execute_result"
    }
   ],
   "source": [
    "# Calculating the initial decision variable\n",
    "p = 3 -2*radius\n",
    "p"
   ]
  },
  {
   "cell_type": "code",
   "execution_count": 96,
   "metadata": {},
   "outputs": [
    {
     "name": "stdout",
     "output_type": "stream",
     "text": [
      "[0, 1, 2, 3, 4, 5, 6, 7, 8, 9, 10, 11, 12, 13] [20, 20, 20, 20, 20, 19, 19, 19, 18, 18, 17, 17, 16, 15]\n"
     ]
    },
    {
     "data": {
      "image/png": "[encoded data removed]",
      "text/plain": [
       "<Figure size 432x288 with 1 Axes>"
      ]
     },
     "metadata": {
      "needs_background": "light"
     },
     "output_type": "display_data"
    }
   ],
   "source": [
    "x_pnt = []\n",
    "y_pnt = []\n",
    "\n",
    "while(x < y):\n",
    "    x_pnt.append(x)\n",
    "    y_pnt.append(y)\n",
    "    if (p < 0):\n",
    "        p = p + (4*x) + 6\n",
    "        x =x+1\n",
    "    else:\n",
    "        p = p + 4*x-4*y+ 10\n",
    "        y -= 1\n",
    "        x = x+1\n",
    "print(x_pnt,y_pnt)\n",
    "\n",
    "plt.plot(x_pnt,y_pnt)\n",
    "plt.show()"
   ]
  },
  {
   "cell_type": "code",
   "execution_count": 92,
   "metadata": {},
   "outputs": [
    {
     "name": "stdout",
     "output_type": "stream",
     "text": [
      "[] []\n"
     ]
    },
    {
     "data": {
      "image/png": "[encoded data removed]",
      "text/plain": [
       "<Figure size 432x288 with 1 Axes>"
      ]
     },
     "metadata": {
      "needs_background": "light"
     },
     "output_type": "display_data"
    }
   ],
   "source": [
    "x_pnt = []\n",
    "y_pnt = []\n",
    "while(p < 0):\n",
    "    x_pnt.append(x)\n",
    "    y_pnt.append(y)\n",
    "    print(x,y)\n",
    "    if p > 0:\n",
    "        p = p + (4*x) + 6\n",
    "       # print('if')\n",
    "    else:\n",
    "        p = p + 4*x-4*y+ 10\n",
    "        y -= 1\n",
    "    x += 1\n",
    "print(x_pnt,y_pnt)\n",
    "\n",
    "plt.plot(x_pnt,y_pnt)\n",
    "plt.show()"
   ]
  },
  {
   "cell_type": "code",
   "execution_count": null,
   "metadata": {},
   "outputs": [],
   "source": []
  },
  {
   "cell_type": "code",
   "execution_count": null,
   "metadata": {},
   "outputs": [],
   "source": []
  }
 ],
 "metadata": {
  "kernelspec": {
   "display_name": "Python 3",
   "language": "python",
   "name": "python3"
  },
  "language_info": {
   "codemirror_mode": {
    "name": "ipython",
    "version": 3
   },
   "file_extension": ".py",
   "mimetype": "text/x-python",
   "name": "python",
   "nbconvert_exporter": "python",
   "pygments_lexer": "ipython3",
   "version": "3.7.1"
  }
 },
 "nbformat": 4,
 "nbformat_minor": 2
}
